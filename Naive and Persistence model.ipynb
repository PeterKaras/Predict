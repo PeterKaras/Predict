{
 "cells": [
  {
   "cell_type": "code",
   "execution_count": 2,
   "id": "6fb083f6",
   "metadata": {},
   "outputs": [],
   "source": [
    "import pandas as pd\n",
    "import numpy as np\n",
    "import os"
   ]
  },
  {
   "cell_type": "markdown",
   "id": "fe9ff0ef",
   "metadata": {},
   "source": [
    "# Naive model"
   ]
  },
  {
   "cell_type": "code",
   "execution_count": 5,
   "id": "10cf2475",
   "metadata": {},
   "outputs": [],
   "source": [
    "dataset = pd.read_csv(os.getcwd() + '/data/dataset_all.csv',parse_dates=['datetime'],index_col='datetime')\n",
    "naive = dataset[['grid1-loss']].loc['12-2019'].rename({'grid1-loss':'real'},axis=1)\n",
    "naive['predicted'] = dataset[['grid1-loss']].shift(24).loc['12-2019':]\n",
    "naive.to_csv(os.getcwd() + '/results/naive.csv')"
   ]
  },
  {
   "cell_type": "markdown",
   "id": "c01678cc",
   "metadata": {},
   "source": [
    "# Persistence model"
   ]
  },
  {
   "cell_type": "code",
   "execution_count": 7,
   "id": "a3b17ae3",
   "metadata": {},
   "outputs": [],
   "source": [
    "dataset = pd.read_csv(os.getcwd() + '/data/dataset_all.csv',parse_dates=['datetime'],index_col='datetime')\n",
    "persistence = dataset[['grid1-loss']].loc['12-2019'].rename({'grid1-loss':'real'},axis=1)\n",
    "persistence['predicted'] = dataset[['grid1-loss']].shift(7*24).loc['12-2019':]\n",
    "persistence.to_csv(os.getcwd() + '/results/persistence.csv')"
   ]
  }
 ],
 "metadata": {
  "kernelspec": {
   "display_name": "Python 3 (ipykernel)",
   "language": "python",
   "name": "python3"
  },
  "language_info": {
   "codemirror_mode": {
    "name": "ipython",
    "version": 3
   },
   "file_extension": ".py",
   "mimetype": "text/x-python",
   "name": "python",
   "nbconvert_exporter": "python",
   "pygments_lexer": "ipython3",
   "version": "3.10.9"
  }
 },
 "nbformat": 4,
 "nbformat_minor": 5
}
